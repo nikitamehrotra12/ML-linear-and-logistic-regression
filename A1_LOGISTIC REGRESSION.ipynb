{
 "cells": [
  {
   "cell_type": "code",
   "execution_count": 1,
   "metadata": {},
   "outputs": [],
   "source": [
    "from sklearn.linear_model import LogisticRegression\n",
    "from sklearn.metrics import confusion_matrix"
   ]
  },
  {
   "cell_type": "code",
   "execution_count": 2,
   "metadata": {},
   "outputs": [],
   "source": [
    "import random\n",
    "from mnist import MNIST\n",
    "import pandas as pd\n",
    "import numpy as np\n",
    "import matplotlib.pyplot as plt\n",
    "mndata= MNIST('sample')\n",
    "images_test, labels_test=mndata.load_testing()\n",
    "images_train,labels_train=mndata.load_training()\n",
    "labels_test=np.asarray(labels_test)\n",
    "labels_train=np.asarray(labels_train)\n",
    "images_test=np.asarray(images_test)\n",
    "images_train=np.asarray(images_train)    "
   ]
  },
  {
   "cell_type": "code",
   "execution_count": 10,
   "metadata": {},
   "outputs": [],
   "source": [
    "def l2_logisticregression(images_test,images_train,labels_test,labels_train):\n",
    "    clss=[0,1,2,3,4,5,6,7,8,9]\n",
    "    log_reg=LogisticRegression(penalty='l2',solver='sag',multi_class='ovr')\n",
    "    log_reg.fit(images_train,labels_train)\n",
    "    total_train=[]\n",
    "    #for training data\n",
    "    for k in range(0,len(clss)):\n",
    "        tot=0\n",
    "        for i in range(0,len(labels_train)):\n",
    "            if(labels_train[i]==k):\n",
    "                tot=tot+1\n",
    "        total_train.append(tot)\n",
    "    print(total_train)\n",
    "    y_pred=log_reg.predict(images_train)\n",
    "    mat=confusion_matrix(labels_train, y_pred)\n",
    "    rows,cols=mat.shape\n",
    "    total_truetest=[]\n",
    "    for i in range (0,10):\n",
    "        for j in range (0,10):\n",
    "            if(i==j):\n",
    "                total_truetest.append(mat[i][j])\n",
    "    print(total_truetest)\n",
    "    for i in range(0,len(total_truetest)):\n",
    "        print('Accuracy Score (for train data) for class',i,':',(total_truetest[i]/total_train[i])*100,'%')\n",
    "    #for test data\n",
    "    k=0\n",
    "    i=0\n",
    "    total_test=[]\n",
    "    for k in range(0,len(clss)):\n",
    "        tot=0\n",
    "        for i in range(0,len(labels_test)):\n",
    "            if(labels_test[i]==k):\n",
    "                tot=tot+1\n",
    "        total_test.append(tot)\n",
    "    print(total_test)\n",
    "    y_pred=log_reg.predict(images_test)\n",
    "    mat=confusion_matrix(labels_test, y_pred)\n",
    "    rows,cols=mat.shape\n",
    "    total_true=[]\n",
    "    for i in range (0,10):\n",
    "        for j in range (0,10):\n",
    "            if(i==j):\n",
    "                total_true.append(mat[i][j])\n",
    "    print(total_true)\n",
    "    for i in range(0,len(total_true)):\n",
    "        print('Accuracy Score (for test data) for class',i,':',(total_true[i]/total_test[i])*100,'%')\n",
    "\n"
   ]
  },
  {
   "cell_type": "code",
   "execution_count": 11,
   "metadata": {},
   "outputs": [
    {
     "name": "stderr",
     "output_type": "stream",
     "text": [
      "C:\\Users\\user\\Anaconda3\\lib\\site-packages\\sklearn\\linear_model\\sag.py:326: ConvergenceWarning: The max_iter was reached which means the coef_ did not converge\n",
      "  \"the coef_ did not converge\", ConvergenceWarning)\n"
     ]
    },
    {
     "name": "stdout",
     "output_type": "stream",
     "text": [
      "[5923, 6742, 5958, 6131, 5842, 5421, 5918, 6265, 5851, 5949]\n",
      "[5794, 6591, 5408, 5515, 5471, 4715, 5707, 5872, 5168, 5347]\n",
      "Accuracy Score (for train data) for class 0 : 97.82204963700826 %\n",
      "Accuracy Score (for train data) for class 1 : 97.76030851379413 %\n",
      "Accuracy Score (for train data) for class 2 : 90.76871433366902 %\n",
      "Accuracy Score (for train data) for class 3 : 89.95269939650954 %\n",
      "Accuracy Score (for train data) for class 4 : 93.64943512495721 %\n",
      "Accuracy Score (for train data) for class 5 : 86.97657258808337 %\n",
      "Accuracy Score (for train data) for class 6 : 96.43460628590739 %\n",
      "Accuracy Score (for train data) for class 7 : 93.7270550678372 %\n",
      "Accuracy Score (for train data) for class 8 : 88.32678174670995 %\n",
      "Accuracy Score (for train data) for class 9 : 89.88065221045554 %\n",
      "[980, 1135, 1032, 1010, 982, 892, 958, 1028, 974, 1009]\n",
      "[961, 1115, 906, 919, 908, 758, 909, 948, 856, 903]\n",
      "Accuracy Score (for test data) for class 0 : 98.06122448979592 %\n",
      "Accuracy Score (for test data) for class 1 : 98.23788546255507 %\n",
      "Accuracy Score (for test data) for class 2 : 87.79069767441861 %\n",
      "Accuracy Score (for test data) for class 3 : 90.99009900990099 %\n",
      "Accuracy Score (for test data) for class 4 : 92.4643584521385 %\n",
      "Accuracy Score (for test data) for class 5 : 84.97757847533633 %\n",
      "Accuracy Score (for test data) for class 6 : 94.88517745302714 %\n",
      "Accuracy Score (for test data) for class 7 : 92.21789883268482 %\n",
      "Accuracy Score (for test data) for class 8 : 87.88501026694045 %\n",
      "Accuracy Score (for test data) for class 9 : 89.49454905847374 %\n"
     ]
    }
   ],
   "source": [
    "l2_logisticregression(images_test,images_train,labels_test,labels_train)"
   ]
  },
  {
   "cell_type": "code",
   "execution_count": 12,
   "metadata": {},
   "outputs": [],
   "source": [
    "def l1_logisticregression(images_test,images_train,labels_test,labels_train):\n",
    "    clss=[0,1,2,3,4,5,6,7,8,9]\n",
    "    log_reg=LogisticRegression(penalty='l1',solver='saga',multi_class='ovr')\n",
    "    log_reg.fit(images_train,labels_train)\n",
    "    total_train=[]\n",
    "    #for training data\n",
    "    for k in range(0,len(clss)):\n",
    "        tot=0\n",
    "        for i in range(0,len(labels_train)):\n",
    "            if(labels_train[i]==k):\n",
    "                tot=tot+1\n",
    "        total_train.append(tot)\n",
    "    y_pred=log_reg.predict(images_train)\n",
    "    mat=confusion_matrix(labels_train, y_pred)\n",
    "    rows,cols=mat.shape\n",
    "    total_truetest=[]\n",
    "    for i in range (0,10):\n",
    "        for j in range (0,10):\n",
    "            if(i==j):\n",
    "                total_truetest.append(mat[i][j])\n",
    "    for i in range(0,len(total_truetest)):\n",
    "        print('Accuracy Score (for train data) for class',i,':',(total_truetest[i]/total_train[i])*100,'%')\n",
    "    #for test data\n",
    "    k=0\n",
    "    i=0\n",
    "    total_test=[]\n",
    "    for k in range(0,len(clss)):\n",
    "        tot=0\n",
    "        for i in range(0,len(labels_test)):\n",
    "            if(labels_test[i]==k):\n",
    "                tot=tot+1\n",
    "        total_test.append(tot)\n",
    "    y_pred=log_reg.predict(images_test)\n",
    "    mat=confusion_matrix(labels_test, y_pred)\n",
    "    rows,cols=mat.shape\n",
    "    total_true=[]\n",
    "    for i in range (0,10):\n",
    "        for j in range (0,10):\n",
    "            if(i==j):\n",
    "                total_true.append(mat[i][j])\n",
    "    for i in range(0,len(total_true)):\n",
    "        print('Accuracy Score (for test data) for class',i,':',(total_true[i]/total_test[i])*100,'%')\n",
    "\n"
   ]
  },
  {
   "cell_type": "code",
   "execution_count": 13,
   "metadata": {},
   "outputs": [
    {
     "name": "stderr",
     "output_type": "stream",
     "text": [
      "C:\\Users\\user\\Anaconda3\\lib\\site-packages\\sklearn\\linear_model\\sag.py:326: ConvergenceWarning: The max_iter was reached which means the coef_ did not converge\n",
      "  \"the coef_ did not converge\", ConvergenceWarning)\n"
     ]
    },
    {
     "name": "stdout",
     "output_type": "stream",
     "text": [
      "[5923, 6742, 5958, 6131, 5842, 5421, 5918, 6265, 5851, 5949]\n",
      "[5794, 6592, 5407, 5513, 5472, 4714, 5707, 5871, 5168, 5346]\n",
      "Accuracy Score (for train data) for class 0 : 97.82204963700826 %\n",
      "Accuracy Score (for train data) for class 1 : 97.77514090774251 %\n",
      "Accuracy Score (for train data) for class 2 : 90.75193017791206 %\n",
      "Accuracy Score (for train data) for class 3 : 89.92007829065405 %\n",
      "Accuracy Score (for train data) for class 4 : 93.6665525504964 %\n",
      "Accuracy Score (for train data) for class 5 : 86.95812580704667 %\n",
      "Accuracy Score (for train data) for class 6 : 96.43460628590739 %\n",
      "Accuracy Score (for train data) for class 7 : 93.71109337589785 %\n",
      "Accuracy Score (for train data) for class 8 : 88.32678174670995 %\n",
      "Accuracy Score (for train data) for class 9 : 89.86384266263238 %\n",
      "[980, 1135, 1032, 1010, 982, 892, 958, 1028, 974, 1009]\n",
      "[961, 1115, 905, 919, 909, 758, 909, 948, 856, 903]\n",
      "Accuracy Score (for test data) for class 0 : 98.06122448979592 %\n",
      "Accuracy Score (for test data) for class 1 : 98.23788546255507 %\n",
      "Accuracy Score (for test data) for class 2 : 87.6937984496124 %\n",
      "Accuracy Score (for test data) for class 3 : 90.99009900990099 %\n",
      "Accuracy Score (for test data) for class 4 : 92.56619144602851 %\n",
      "Accuracy Score (for test data) for class 5 : 84.97757847533633 %\n",
      "Accuracy Score (for test data) for class 6 : 94.88517745302714 %\n",
      "Accuracy Score (for test data) for class 7 : 92.21789883268482 %\n",
      "Accuracy Score (for test data) for class 8 : 87.88501026694045 %\n",
      "Accuracy Score (for test data) for class 9 : 89.49454905847374 %\n"
     ]
    }
   ],
   "source": [
    "l1_logisticregression(images_test,images_train,labels_test,labels_train)"
   ]
  },
  {
   "cell_type": "code",
   "execution_count": null,
   "metadata": {},
   "outputs": [],
   "source": [
    "\n"
   ]
  },
  {
   "cell_type": "code",
   "execution_count": null,
   "metadata": {},
   "outputs": [],
   "source": []
  },
  {
   "cell_type": "code",
   "execution_count": null,
   "metadata": {},
   "outputs": [],
   "source": []
  },
  {
   "cell_type": "code",
   "execution_count": null,
   "metadata": {},
   "outputs": [],
   "source": []
  },
  {
   "cell_type": "code",
   "execution_count": null,
   "metadata": {},
   "outputs": [],
   "source": []
  },
  {
   "cell_type": "code",
   "execution_count": null,
   "metadata": {},
   "outputs": [],
   "source": []
  }
 ],
 "metadata": {
  "kernelspec": {
   "display_name": "Python 3",
   "language": "python",
   "name": "python3"
  },
  "language_info": {
   "codemirror_mode": {
    "name": "ipython",
    "version": 3
   },
   "file_extension": ".py",
   "mimetype": "text/x-python",
   "name": "python",
   "nbconvert_exporter": "python",
   "pygments_lexer": "ipython3",
   "version": "3.6.5"
  }
 },
 "nbformat": 4,
 "nbformat_minor": 2
}
